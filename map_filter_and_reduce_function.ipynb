{
  "nbformat": 4,
  "nbformat_minor": 0,
  "metadata": {
    "colab": {
      "name": "map filter and reduce function ",
      "provenance": [],
      "authorship_tag": "ABX9TyO64QQnVOiAdasPKr8oo3oz",
      "include_colab_link": true
    },
    "kernelspec": {
      "name": "python3",
      "display_name": "Python 3"
    },
    "language_info": {
      "name": "python"
    }
  },
  "cells": [
    {
      "cell_type": "markdown",
      "metadata": {
        "id": "view-in-github",
        "colab_type": "text"
      },
      "source": [
        "<a href=\"https://colab.research.google.com/github/lalit784bhaiu/lalit/blob/master/map_filter_and_reduce_function.ipynb\" target=\"_parent\"><img src=\"https://colab.research.google.com/assets/colab-badge.svg\" alt=\"Open In Colab\"/></a>"
      ]
    },
    {
      "cell_type": "code",
      "metadata": {
        "colab": {
          "base_uri": "https://localhost:8080/"
        },
        "id": "n_eGVA2XzT96",
        "outputId": "b028786a-f8dd-41e8-c383-266b3f56d68f"
      },
      "source": [
        "# map function : it is a built in function that alows you to process and transform all item in an iterable without using an explicit for-loop\n",
        "\n",
        "# Example\n",
        "\n",
        "list1=[\"1\",\"2\",\"3\",\"4\",\"5\",\"6\"]\n",
        "\n",
        "# this list containing some numbers are in string format now i have to change the type of string using map function (tranform)\n",
        "\n",
        "transform_list = list(map(int,list1))\n",
        "print(transform_list)"
      ],
      "execution_count": 1,
      "outputs": [
        {
          "output_type": "stream",
          "text": [
            "[1, 2, 3, 4, 5, 6]\n"
          ],
          "name": "stdout"
        }
      ]
    },
    {
      "cell_type": "code",
      "metadata": {
        "colab": {
          "base_uri": "https://localhost:8080/"
        },
        "id": "LAbRfO803wz5",
        "outputId": "b5a3cacc-182d-4e86-c7c4-ff174faeee5e"
      },
      "source": [
        "initial_list = [1,2,3,4,5,6,7,8,9,10]\n",
        "\n",
        "final_list = list(map(lambda x,:x+2 , initial_list))\n",
        "print(final_list)\n"
      ],
      "execution_count": 5,
      "outputs": [
        {
          "output_type": "stream",
          "text": [
            "[3, 4, 5, 6, 7, 8, 9, 10, 11, 12]\n"
          ],
          "name": "stdout"
        }
      ]
    },
    {
      "cell_type": "code",
      "metadata": {
        "colab": {
          "base_uri": "https://localhost:8080/"
        },
        "id": "1EueiPfu4RBV",
        "outputId": "6463f522-baf2-45f8-8566-e47ecd42e999"
      },
      "source": [
        "initial_list1=[1,2,3,4,5,6,7,8]\n",
        "\n",
        "def square(a):\n",
        "  return a*a\n",
        "\n",
        "def cube(a):\n",
        "  return a*a*a\n",
        "\n",
        "func = [square , cube]\n",
        "\n",
        "for i in range (0,8):\n",
        "  \n",
        "  val = list(map(lambda x:x(i) , func))\n",
        "  \n",
        "  print(val)"
      ],
      "execution_count": 10,
      "outputs": [
        {
          "output_type": "stream",
          "text": [
            "[0, 0]\n",
            "[1, 1]\n",
            "[4, 8]\n",
            "[9, 27]\n",
            "[16, 64]\n",
            "[25, 125]\n",
            "[36, 216]\n",
            "[49, 343]\n"
          ],
          "name": "stdout"
        }
      ]
    },
    {
      "cell_type": "code",
      "metadata": {
        "colab": {
          "base_uri": "https://localhost:8080/"
        },
        "id": "7BU3gxat9kXG",
        "outputId": "37ec9783-51f6-4fed-fefb-38e85b372645"
      },
      "source": [
        "# filter function : \n",
        "\n",
        "initial_list = [1,2,3,4,5,6,7,8,9]\n",
        "\n",
        "def even_numbers(num):\n",
        "\n",
        "  if num % 2 == 0:\n",
        "    return num \n",
        "\n",
        "even_nums = filter(even_numbers , initial_list)\n",
        "\n",
        "print(even_nums)\n",
        "\n",
        "for num in even_nums:\n",
        "  print(num)\n",
        "  "
      ],
      "execution_count": 4,
      "outputs": [
        {
          "output_type": "stream",
          "text": [
            "<filter object at 0x7f31b7970b50>\n",
            "2\n",
            "4\n",
            "6\n",
            "8\n"
          ],
          "name": "stdout"
        }
      ]
    },
    {
      "cell_type": "code",
      "metadata": {
        "colab": {
          "base_uri": "https://localhost:8080/"
        },
        "id": "eqpd5P20y14w",
        "outputId": "e4c773cd-50fd-43f5-e349-f121b67faf4b"
      },
      "source": [
        "# reduce function : it is used to apply a particular function to its elements mentioned all the sequence passed along .\n",
        "from functools import reduce\n",
        "\n",
        "list1 = [1,2,3,4,5,6,7,8,9]  # i have to add all these numbers without using the for loop \n",
        "                             # i have to find the product of all these summulative number without using any of the loop \n",
        "final_list = reduce(lambda x,y:x+y , list1)--+\n",
        "\n",
        "print(final_list)\n",
        "\n"
      ],
      "execution_count": 9,
      "outputs": [
        {
          "output_type": "stream",
          "text": [
            "45\n"
          ],
          "name": "stdout"
        }
      ]
    }
  ]
}