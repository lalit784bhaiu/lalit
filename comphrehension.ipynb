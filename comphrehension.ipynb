{
  "nbformat": 4,
  "nbformat_minor": 0,
  "metadata": {
    "colab": {
      "name": "comphrehension",
      "provenance": [],
      "authorship_tag": "ABX9TyMZ0E7IYOWr+X6745l0zXo3",
      "include_colab_link": true
    },
    "kernelspec": {
      "name": "python3",
      "display_name": "Python 3"
    },
    "language_info": {
      "name": "python"
    }
  },
  "cells": [
    {
      "cell_type": "markdown",
      "metadata": {
        "id": "view-in-github",
        "colab_type": "text"
      },
      "source": [
        "<a href=\"https://colab.research.google.com/github/lalit784bhaiu/lalit/blob/master/comphrehension.ipynb\" target=\"_parent\"><img src=\"https://colab.research.google.com/assets/colab-badge.svg\" alt=\"Open In Colab\"/></a>"
      ]
    },
    {
      "cell_type": "code",
      "metadata": {
        "id": "WDDhshuItZQP"
      },
      "source": [
        "# comphrehension : It is basically a way of writing a concise block of code to generate a sequence which can be a list , dictionary , set or a generator using sequence \n"
      ],
      "execution_count": null,
      "outputs": []
    },
    {
      "cell_type": "code",
      "metadata": {
        "colab": {
          "base_uri": "https://localhost:8080/"
        },
        "id": "FU8WGWGgwnxl",
        "outputId": "c716ce9a-57db-4d94-ad55-7f1f8b0a0e1c"
      },
      "source": [
        "# 1 list comphrehension \n",
        "\n",
        "given_list = [1,2,3,4,5,6,7,8]\n",
        "print(given_list)\n",
        "\n",
        "modified_list = [var*var for var in given_list if var%2!=0]\n",
        "\n",
        "#above i have used two condition in a single list comphrehension statement\n",
        "print(modified_list)\n",
        "\n",
        "\n"
      ],
      "execution_count": 20,
      "outputs": [
        {
          "output_type": "stream",
          "text": [
            "[1, 2, 3, 4, 5, 6, 7, 8]\n",
            "[1, 9, 25, 49]\n"
          ],
          "name": "stdout"
        }
      ]
    },
    {
      "cell_type": "code",
      "metadata": {
        "colab": {
          "base_uri": "https://localhost:8080/"
        },
        "id": "asdwING5dnul",
        "outputId": "81a06130-2d69-4488-bc48-7bb8a84ee8c2"
      },
      "source": [
        "# 2 dictionary comphrehension\n",
        "\n",
        "keys = [1,2,3,4,5,6]\n",
        "values=[\"a\",\"b\",\"c\",\"d\",\"e\",\"f\"]\n",
        "\n",
        "mydict = { k : v for (k,v) in zip (keys,values)}\n",
        "print(mydict)"
      ],
      "execution_count": 5,
      "outputs": [
        {
          "output_type": "stream",
          "text": [
            "{1: 'a', 2: 'b', 3: 'c', 4: 'd', 5: 'e', 6: 'f'}\n"
          ],
          "name": "stdout"
        }
      ]
    },
    {
      "cell_type": "code",
      "metadata": {
        "colab": {
          "base_uri": "https://localhost:8080/"
        },
        "id": "PkN23Q53fKFk",
        "outputId": "7571e8e4-57f8-4c53-a51d-dce8e9441ff6"
      },
      "source": [
        "mydict2 = {v:k for(v,k) in zip(values , keys)}\n",
        "print(mydict2)"
      ],
      "execution_count": 7,
      "outputs": [
        {
          "output_type": "stream",
          "text": [
            "{'a': 1, 'b': 2, 'c': 3, 'd': 4, 'e': 5, 'f': 6}\n"
          ],
          "name": "stdout"
        }
      ]
    },
    {
      "cell_type": "code",
      "metadata": {
        "colab": {
          "base_uri": "https://localhost:8080/"
        },
        "id": "5dplAPHefcrZ",
        "outputId": "10e4500f-946c-4070-974c-80539fd490e7"
      },
      "source": [
        "# 3 set comphrehension \n",
        "\n",
        "input_set = {1,2,3,4,5,6,7,8}\n",
        "\n",
        "output_set = {var for var in input_set if var%2==0}\n",
        "print(output_set)"
      ],
      "execution_count": 14,
      "outputs": [
        {
          "output_type": "stream",
          "text": [
            "{8, 2, 4, 6}\n"
          ],
          "name": "stdout"
        }
      ]
    },
    {
      "cell_type": "code",
      "metadata": {
        "id": "Hk3jFd00gsoo"
      },
      "source": [
        ""
      ],
      "execution_count": null,
      "outputs": []
    }
  ]
}