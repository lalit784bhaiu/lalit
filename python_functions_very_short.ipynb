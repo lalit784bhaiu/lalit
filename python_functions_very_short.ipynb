{
  "nbformat": 4,
  "nbformat_minor": 0,
  "metadata": {
    "colab": {
      "name": "python functions very short",
      "provenance": [],
      "authorship_tag": "ABX9TyNuQ+J8ZEehUFHYURCeDV4l",
      "include_colab_link": true
    },
    "kernelspec": {
      "name": "python3",
      "display_name": "Python 3"
    },
    "language_info": {
      "name": "python"
    }
  },
  "cells": [
    {
      "cell_type": "markdown",
      "metadata": {
        "id": "view-in-github",
        "colab_type": "text"
      },
      "source": [
        "<a href=\"https://colab.research.google.com/github/lalit784bhaiu/lalit/blob/master/python_functions_very_short.ipynb\" target=\"_parent\"><img src=\"https://colab.research.google.com/assets/colab-badge.svg\" alt=\"Open In Colab\"/></a>"
      ]
    },
    {
      "cell_type": "code",
      "metadata": {
        "colab": {
          "base_uri": "https://localhost:8080/"
        },
        "id": "FjM7EzJ90QCe",
        "outputId": "eff83304-fff7-44c6-8c28-81e56742835c"
      },
      "source": [
        "#how to take a input from the user\n",
        "\n",
        "x=int(input(\"please enter the number\"))\n",
        "y=int(input(\"please enter the second number\"))\n",
        "z=x+y\n",
        "print(z)"
      ],
      "execution_count": null,
      "outputs": [
        {
          "output_type": "stream",
          "text": [
            "please enter the number6\n",
            "please enter the second number7\n",
            "13\n"
          ],
          "name": "stdout"
        }
      ]
    },
    {
      "cell_type": "code",
      "metadata": {
        "colab": {
          "base_uri": "https://localhost:8080/"
        },
        "id": "icmFu7sc1B_-",
        "outputId": "1abd7442-d21c-47ac-b941-7e658ecab8a4"
      },
      "source": [
        "#concept of function \n",
        "\n",
        "def add(a,b):       #  a,b are the prameter responsible for many function\n",
        "  c=a+b\n",
        "  return c\n",
        "\n",
        "a=4\n",
        "b=3                 # these variable do not affect the parameter\n",
        "add(a,b)\n"
      ],
      "execution_count": null,
      "outputs": [
        {
          "output_type": "execute_result",
          "data": {
            "text/plain": [
              "7"
            ]
          },
          "metadata": {
            "tags": []
          },
          "execution_count": 2
        }
      ]
    },
    {
      "cell_type": "code",
      "metadata": {
        "colab": {
          "base_uri": "https://localhost:8080/"
        },
        "id": "3srCsKc5ySpk",
        "outputId": "ba071adb-7f40-4e01-a5d1-f2fa438ef721"
      },
      "source": [
        "#how to modify a function \n",
        "\n",
        "def div(a,b):\n",
        "\n",
        "  #i have to modify this function that if b==0 then it will not show any error\n",
        "  \n",
        "  if b == 0:\n",
        "    return print(\"plese give some other number or the result will be infinite\")\n",
        "\n",
        "  else:\n",
        "    c=a/b\n",
        "    return print(\"after solving the answer is\",c)\n",
        "\n",
        "a = input(\"enter the first number\")\n",
        "b = input(\"enter the second number\")\n",
        "\n",
        "div(int(a),int(b))"
      ],
      "execution_count": 2,
      "outputs": [
        {
          "output_type": "stream",
          "text": [
            "enter the first number6\n",
            "enter the second number3\n",
            "after solving the answer is 2.0\n"
          ],
          "name": "stdout"
        }
      ]
    },
    {
      "cell_type": "code",
      "metadata": {
        "colab": {
          "base_uri": "https://localhost:8080/"
        },
        "id": "M_M2yrwH0DZv",
        "outputId": "ac5471fe-9ecb-4cdb-9227-0ea0932da273"
      },
      "source": [
        "# methods  (key performing a particular tasks with only the use of some keyword are known as methods)\n",
        "\n",
        "len(\"lalit\")    #function with a datatypes are known as methods here len is a method \n",
        "\n"
      ],
      "execution_count": 3,
      "outputs": [
        {
          "output_type": "execute_result",
          "data": {
            "text/plain": [
              "5"
            ]
          },
          "metadata": {
            "tags": []
          },
          "execution_count": 3
        }
      ]
    },
    {
      "cell_type": "code",
      "metadata": {
        "colab": {
          "base_uri": "https://localhost:8080/"
        },
        "id": "HWsRG5hM1cWO",
        "outputId": "28a9c8b6-7912-490a-ac08-53f92a348db2"
      },
      "source": [
        "#date and time module\n",
        "\n",
        "import datetime\n",
        "\n",
        "x = datetime.datetime.now()\n",
        "\n",
        "print(x)"
      ],
      "execution_count": 4,
      "outputs": [
        {
          "output_type": "stream",
          "text": [
            "2021-07-05 04:06:03.318420\n"
          ],
          "name": "stdout"
        }
      ]
    },
    {
      "cell_type": "code",
      "metadata": {
        "id": "56Q7lGnh2QD4"
      },
      "source": [
        ""
      ],
      "execution_count": null,
      "outputs": []
    }
  ]
}