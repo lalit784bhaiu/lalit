{
  "nbformat": 4,
  "nbformat_minor": 0,
  "metadata": {
    "colab": {
      "name": "numpy complete beginner to advance",
      "provenance": [],
      "authorship_tag": "ABX9TyMuZHRUfHemHlPt+j/UoQ3z",
      "include_colab_link": true
    },
    "kernelspec": {
      "name": "python3",
      "display_name": "Python 3"
    },
    "language_info": {
      "name": "python"
    }
  },
  "cells": [
    {
      "cell_type": "markdown",
      "metadata": {
        "id": "view-in-github",
        "colab_type": "text"
      },
      "source": [
        "<a href=\"https://colab.research.google.com/github/lalit784bhaiu/lalit/blob/master/numpy_complete_beginner_to_advance.ipynb\" target=\"_parent\"><img src=\"https://colab.research.google.com/assets/colab-badge.svg\" alt=\"Open In Colab\"/></a>"
      ]
    },
    {
      "cell_type": "code",
      "metadata": {
        "id": "dlgNQtwwNt3K"
      },
      "source": [
        "#HERE IN THIS COURSE YOU WILL HAVE A COURSE FOR NUMPY FROM BEGINNNER TO ADVANCE (HOPE YOU LOVE THIS WHOLE COURSE PLAYLIST)\n"
      ],
      "execution_count": null,
      "outputs": []
    },
    {
      "cell_type": "code",
      "metadata": {
        "colab": {
          "base_uri": "https://localhost:8080/"
        },
        "id": "AXSmBJswSSki",
        "outputId": "ccf3c986-d12f-48de-c40c-eded8fc1d7c9"
      },
      "source": [
        "#At first we are going to learn that how we can import numpy and and how to create a array using numpy\n",
        "\n",
        "import numpy as np \n",
        "\n",
        "#first method to create a array\n",
        "\n",
        "listarray = np.array(([8,9,4,5],[2,3,4,5]))\n",
        "\n",
        "print(listarray)"
      ],
      "execution_count": 7,
      "outputs": [
        {
          "output_type": "stream",
          "text": [
            "[[8 9 4 5]\n",
            " [2 3 4 5]]\n"
          ],
          "name": "stdout"
        }
      ]
    },
    {
      "cell_type": "code",
      "metadata": {
        "colab": {
          "base_uri": "https://localhost:8080/"
        },
        "id": "RIQRRj1svSb3",
        "outputId": "248869a3-383a-4749-bcc7-ec1fcc0af074"
      },
      "source": [
        "print(listarray.size)\n",
        "print(listarray.ndim)"
      ],
      "execution_count": 8,
      "outputs": [
        {
          "output_type": "stream",
          "text": [
            "8\n",
            "2\n"
          ],
          "name": "stdout"
        }
      ]
    },
    {
      "cell_type": "code",
      "metadata": {
        "colab": {
          "base_uri": "https://localhost:8080/"
        },
        "id": "EM3IKEbSvZli",
        "outputId": "2c41f7f8-ee39-44e5-8ec9-492baa9cd689"
      },
      "source": [
        "# second way to create a zero array\n",
        "\n",
        "zeros = np.zeros([4,5])\n",
        "print(zeros)"
      ],
      "execution_count": 9,
      "outputs": [
        {
          "output_type": "stream",
          "text": [
            "[[0. 0. 0. 0. 0.]\n",
            " [0. 0. 0. 0. 0.]\n",
            " [0. 0. 0. 0. 0.]\n",
            " [0. 0. 0. 0. 0.]]\n"
          ],
          "name": "stdout"
        }
      ]
    },
    {
      "cell_type": "code",
      "metadata": {
        "colab": {
          "base_uri": "https://localhost:8080/"
        },
        "id": "3mzsbvi_vsP6",
        "outputId": "6d9f945f-e4ea-4f8f-9edc-16bc1b292c67"
      },
      "source": [
        "#third way to create a identity matrix is\n",
        "identity = np.identity(4)\n",
        "print(identity)"
      ],
      "execution_count": null,
      "outputs": [
        {
          "output_type": "stream",
          "text": [
            "[[1. 0. 0. 0.]\n",
            " [0. 1. 0. 0.]\n",
            " [0. 0. 1. 0.]\n",
            " [0. 0. 0. 1.]]\n"
          ],
          "name": "stdout"
        }
      ]
    },
    {
      "cell_type": "code",
      "metadata": {
        "colab": {
          "base_uri": "https://localhost:8080/"
        },
        "id": "YZCnzaT5wgYV",
        "outputId": "4c8776a7-9ded-44be-b6d9-f247d490dbb1"
      },
      "source": [
        "# fourth way is to find the transpose of the matrix\n",
        "\n",
        "listarray.T"
      ],
      "execution_count": null,
      "outputs": [
        {
          "output_type": "execute_result",
          "data": {
            "text/plain": [
              "array([[8, 2],\n",
              "       [9, 3],\n",
              "       [4, 4],\n",
              "       [5, 5]])"
            ]
          },
          "metadata": {
            "tags": []
          },
          "execution_count": 13
        }
      ]
    },
    {
      "cell_type": "code",
      "metadata": {
        "colab": {
          "base_uri": "https://localhost:8080/"
        },
        "id": "vVm9tFS9w6rd",
        "outputId": "fb4e46cf-3625-4280-b24d-b7e785704583"
      },
      "source": [
        "for item in listarray:\n",
        "  print(item)"
      ],
      "execution_count": 10,
      "outputs": [
        {
          "output_type": "stream",
          "text": [
            "[8 9 4 5]\n",
            "[2 3 4 5]\n"
          ],
          "name": "stdout"
        }
      ]
    },
    {
      "cell_type": "code",
      "metadata": {
        "id": "zTKdPP2WHT8x",
        "colab": {
          "base_uri": "https://localhost:8080/"
        },
        "outputId": "016e07b4-6eb1-4c07-af3e-2eb71eaf8658"
      },
      "source": [
        "listarray.max()"
      ],
      "execution_count": 11,
      "outputs": [
        {
          "output_type": "execute_result",
          "data": {
            "text/plain": [
              "9"
            ]
          },
          "metadata": {
            "tags": []
          },
          "execution_count": 11
        }
      ]
    },
    {
      "cell_type": "code",
      "metadata": {
        "colab": {
          "base_uri": "https://localhost:8080/"
        },
        "id": "SrRVd8MkHVxo",
        "outputId": "1e4d75e2-7f66-44f7-ad70-ca69b3e2fde2"
      },
      "source": [
        "listarray.argmax()"
      ],
      "execution_count": 12,
      "outputs": [
        {
          "output_type": "execute_result",
          "data": {
            "text/plain": [
              "1"
            ]
          },
          "metadata": {
            "tags": []
          },
          "execution_count": 12
        }
      ]
    },
    {
      "cell_type": "code",
      "metadata": {
        "colab": {
          "base_uri": "https://localhost:8080/"
        },
        "id": "RHe0mi18Ha60",
        "outputId": "d757455b-ee96-45f8-e4d9-dc01149d1cfe"
      },
      "source": [
        "arrange=np.arange(10)\n",
        "print(arrange)"
      ],
      "execution_count": 17,
      "outputs": [
        {
          "output_type": "stream",
          "text": [
            "[0 1 2 3 4 5 6 7 8 9]\n"
          ],
          "name": "stdout"
        }
      ]
    },
    {
      "cell_type": "code",
      "metadata": {
        "colab": {
          "base_uri": "https://localhost:8080/"
        },
        "id": "dgwWdpM6H8Of",
        "outputId": "2f5134ce-9348-43ca-860b-1f49e79ac916"
      },
      "source": [
        "x=(((([1,2,3,4],[4,5,6,7],[8,9,7,3],[1,5,6,7]))))\n",
        "ar=np.array(x)\n",
        "ar.sum(axis=0)\n"
      ],
      "execution_count": 19,
      "outputs": [
        {
          "output_type": "execute_result",
          "data": {
            "text/plain": [
              "array([14, 21, 22, 21])"
            ]
          },
          "metadata": {
            "tags": []
          },
          "execution_count": 19
        }
      ]
    },
    {
      "cell_type": "code",
      "metadata": {
        "colab": {
          "base_uri": "https://localhost:8080/"
        },
        "id": "rlus_XjHItFK",
        "outputId": "93b86ec3-8e80-4831-bd5d-8b28af4eb79e"
      },
      "source": [
        "ar.sum(axis=1)"
      ],
      "execution_count": 20,
      "outputs": [
        {
          "output_type": "execute_result",
          "data": {
            "text/plain": [
              "array([10, 22, 27, 19])"
            ]
          },
          "metadata": {
            "tags": []
          },
          "execution_count": 20
        }
      ]
    },
    {
      "cell_type": "code",
      "metadata": {
        "colab": {
          "base_uri": "https://localhost:8080/"
        },
        "id": "O31tOppVI1FU",
        "outputId": "30f46663-4825-459d-bfa9-8ce95b34d2e9"
      },
      "source": [
        "one=np.array([3,6,9])\n",
        "two=np.array([3,9,8])\n",
        "one+two"
      ],
      "execution_count": 21,
      "outputs": [
        {
          "output_type": "execute_result",
          "data": {
            "text/plain": [
              "array([ 6, 15, 17])"
            ]
          },
          "metadata": {
            "tags": []
          },
          "execution_count": 21
        }
      ]
    },
    {
      "cell_type": "code",
      "metadata": {
        "colab": {
          "base_uri": "https://localhost:8080/"
        },
        "id": "dibH2z-VJDgH",
        "outputId": "f48827eb-c1fe-4c02-a27b-f55dc0435517"
      },
      "source": [
        "## most important topic is to find the numbers in the array\n",
        "\n",
        "marks=np.array([1,2,3,4,6,9,7,3,5,0])\n",
        "np.where(marks>5)  #it wil give the index of the numbers present in array according to the condition given "
      ],
      "execution_count": 22,
      "outputs": [
        {
          "output_type": "execute_result",
          "data": {
            "text/plain": [
              "(array([4, 5, 6]),)"
            ]
          },
          "metadata": {
            "tags": []
          },
          "execution_count": 22
        }
      ]
    }
  ]
}